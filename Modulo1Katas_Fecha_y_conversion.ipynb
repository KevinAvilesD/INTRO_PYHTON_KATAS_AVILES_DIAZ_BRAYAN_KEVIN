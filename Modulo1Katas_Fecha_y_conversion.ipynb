{
 "cells": [
  {
   "cell_type": "code",
   "execution_count": null,
   "metadata": {},
   "outputs": [],
   "source": []
  },
  {
   "cell_type": "markdown",
   "metadata": {},
   "source": [
    "## FECHAS ACTUALES\n",
    "En esta seccion de codigo se muestran las fechas actualizadas, conforme el codigo sea ejecutado, por medio de la importacion del comando date, mostrado en la documentacion del modulo 1, para realizar la kata del modulo 1."
   ]
  },
  {
   "cell_type": "code",
   "execution_count": 9,
   "metadata": {},
   "outputs": [
    {
     "name": "stdout",
     "output_type": "stream",
     "text": [
      "Bienvenido al programa, tripulante Brayan\n",
      "Es de mi agrado informarle tripulante Brayan que la fecha de hoy es: 2022-02-08\n"
     ]
    }
   ],
   "source": [
    "from datetime import date\n",
    "name = input(\"Ingrese su nombre en este apartado: \")\n",
    "print(\"Bienvenido al programa, tripulante \" + name)\n",
    "print(\"Es de mi agrado informarle tripulante \" + name + \" que la fecha de hoy es: \" + str(date.today()))"
   ]
  },
  {
   "cell_type": "markdown",
   "metadata": {},
   "source": [
    "## CONVERSION DE PARSEC A AÑOS LUZ Y VISEVERSA\n",
    "Paraesta seccion, se aplicara una ecuacion o formula que permitira realizar las conversiones de parsec a años luz y de años luz a parsecs:"
   ]
  },
  {
   "cell_type": "code",
   "execution_count": 17,
   "metadata": {},
   "outputs": [
    {
     "name": "stdout",
     "output_type": "stream",
     "text": [
      "3 Parsec(s), son 9.78468 años luz\n"
     ]
    }
   ],
   "source": [
    "parsec = input(\"Ingrese los parsec: \") \n",
    "años_luz = 3.26156 * int(parsec)\n",
    "\n",
    "print(str(parsec) + \" Parsec(s), son \" + str(años_luz) + \" años luz\")\n"
   ]
  }
 ],
 "metadata": {
  "interpreter": {
   "hash": "b5c6f2de2903e7ffbdefb46e0e74e30337099e47b5950022c7524cf91ddb0a87"
  },
  "kernelspec": {
   "display_name": "Python 3.10.2 64-bit",
   "language": "python",
   "name": "python3"
  },
  "language_info": {
   "codemirror_mode": {
    "name": "ipython",
    "version": 3
   },
   "file_extension": ".py",
   "mimetype": "text/x-python",
   "name": "python",
   "nbconvert_exporter": "python",
   "pygments_lexer": "ipython3",
   "version": "3.10.2"
  },
  "orig_nbformat": 4
 },
 "nbformat": 4,
 "nbformat_minor": 2
}
